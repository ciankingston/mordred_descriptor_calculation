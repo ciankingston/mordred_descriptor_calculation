{
 "cells": [
  {
   "cell_type": "code",
   "execution_count": 1,
   "metadata": {
    "ExecuteTime": {
     "end_time": "2022-01-05T01:47:25.053638Z",
     "start_time": "2022-01-05T01:47:22.433899Z"
    }
   },
   "outputs": [],
   "source": [
    "import os,re,sys,pickle,datetime,time,random,itertools\n",
    "import warnings\n",
    "warnings.filterwarnings(\"ignore\")\n",
    "import numpy as np\n",
    "import pandas as pd\n",
    "from scipy import stats\n",
    "import math\n",
    "from tqdm import tqdm\n",
    "import seaborn as sns\n",
    "import umap\n",
    "from multiprocessing import freeze_support\n",
    "import mordred\n",
    "from mordred import Calculator, descriptors\n",
    "from sklearn.cluster import KMeans\n",
    "from sklearn.decomposition import PCA,NMF\n",
    "from sklearn import metrics\n",
    "from sklearn.neighbors import KNeighborsClassifier, NearestNeighbors\n",
    "from sklearn.preprocessing import StandardScaler,MinMaxScaler,PolynomialFeatures\n",
    "import rdkit\n",
    "from rdkit import Chem\n",
    "from rdkit.Chem import DataStructs, AllChem, MolFromSmiles, PandasTools, Descriptors, Draw, PropertyMol, rdmolfiles, rdFMCS\n",
    "from rdkit import RDConfig\n",
    "from rdkit.ML.Descriptors import MoleculeDescriptors\n",
    "from rdkit.Chem.Draw import MolsToGridImage, IPythonConsole, rdMolDraw2D\n",
    "from rdkit.Chem.Draw.MolDrawing import MolDrawing, DrawingOptions, Font\n",
    "DrawingOptions.bondLineWidth=1.8\n",
    "DrawingOptions.includeAtomNumbers=False\n",
    "size = (150, 150)\n",
    "import matplotlib.pyplot as plt\n",
    "from matplotlib.colors import ListedColormap\n",
    "from PIL import Image\n",
    "randomstate = 42"
   ]
  },
  {
   "cell_type": "markdown",
   "metadata": {
    "ExecuteTime": {
     "end_time": "2020-07-09T03:15:43.068241Z",
     "start_time": "2020-07-09T03:15:43.054254Z"
    }
   },
   "source": [
    "# Structure generation\n",
    "\n",
    "- Import smiles from an excel file, remove duplicates\n",
    "- Embed 3D structure from smiles, optimize with MMFF (UFF also possible). MMFF optimization will give significantly different values. Sometimes give errors due to bad conformer id: just run it again if only a small list of molecules, comment out this line if its a big list\n",
    "- http://rdkit.org/docs/GettingStartedInPython.html - \"Working with 3D Molecules\"\n",
    "- https://chemistry.stackexchange.com/questions/118460/is-it-possible-to-build-or-embed-the-smiles-representation-of-compounds-in-3d"
   ]
  },
  {
   "cell_type": "code",
   "execution_count": 2,
   "metadata": {
    "ExecuteTime": {
     "end_time": "2022-01-05T01:47:27.533179Z",
     "start_time": "2022-01-05T01:47:27.267118Z"
    }
   },
   "outputs": [
    {
     "name": "stdout",
     "output_type": "stream",
     "text": [
      "Number of SMILES: 100\n",
      "Number of SMILES after duplicates removed: 99\n"
     ]
    },
    {
     "data": {
      "text/html": [
       "<div>\n",
       "<style scoped>\n",
       "    .dataframe tbody tr th:only-of-type {\n",
       "        vertical-align: middle;\n",
       "    }\n",
       "\n",
       "    .dataframe tbody tr th {\n",
       "        vertical-align: top;\n",
       "    }\n",
       "\n",
       "    .dataframe thead th {\n",
       "        text-align: right;\n",
       "    }\n",
       "</style>\n",
       "<table border=\"1\" class=\"dataframe\">\n",
       "  <thead>\n",
       "    <tr style=\"text-align: right;\">\n",
       "      <th></th>\n",
       "      <th>smiles</th>\n",
       "      <th>rdmol</th>\n",
       "      <th>inchi</th>\n",
       "    </tr>\n",
       "  </thead>\n",
       "  <tbody>\n",
       "    <tr>\n",
       "      <th>0</th>\n",
       "      <td>CC(C)Oc1ccc(Cl)cc1B(O)O</td>\n",
       "      <td>&lt;img data-content=\"rdkit/molecule\" src=\"data:i...</td>\n",
       "      <td>InChI=1S/C9H12BClO3/c1-6(2)14-9-4-3-7(11)5-8(9...</td>\n",
       "    </tr>\n",
       "    <tr>\n",
       "      <th>1</th>\n",
       "      <td>Cc1cc(B(O)O)c(C)cc1F</td>\n",
       "      <td>&lt;img data-content=\"rdkit/molecule\" src=\"data:i...</td>\n",
       "      <td>InChI=1S/C8H10BFO2/c1-5-4-8(10)6(2)3-7(5)9(11)...</td>\n",
       "    </tr>\n",
       "    <tr>\n",
       "      <th>2</th>\n",
       "      <td>CC1(C)OB(c2ccc(F)cc2)OC1(C)C</td>\n",
       "      <td>&lt;img data-content=\"rdkit/molecule\" src=\"data:i...</td>\n",
       "      <td>InChI=1S/C12H16BFO2/c1-11(2)12(3,4)16-13(15-11...</td>\n",
       "    </tr>\n",
       "    <tr>\n",
       "      <th>3</th>\n",
       "      <td>CC(C)(C)OC(=O)n1cccc1B1OC(C)(C)C(C)(C)O1</td>\n",
       "      <td>&lt;img data-content=\"rdkit/molecule\" src=\"data:i...</td>\n",
       "      <td>InChI=1S/C15H24BNO4/c1-13(2,3)19-12(18)17-10-8...</td>\n",
       "    </tr>\n",
       "    <tr>\n",
       "      <th>4</th>\n",
       "      <td>OB(O)c1ccc(Oc2ccccc2)cc1</td>\n",
       "      <td>&lt;img data-content=\"rdkit/molecule\" src=\"data:i...</td>\n",
       "      <td>InChI=1S/C12H11BO3/c14-13(15)10-6-8-12(9-7-10)...</td>\n",
       "    </tr>\n",
       "    <tr>\n",
       "      <th>...</th>\n",
       "      <td>...</td>\n",
       "      <td>...</td>\n",
       "      <td>...</td>\n",
       "    </tr>\n",
       "    <tr>\n",
       "      <th>94</th>\n",
       "      <td>COc1ccc(C(F)(F)F)cc1B(O)O</td>\n",
       "      <td>&lt;img data-content=\"rdkit/molecule\" src=\"data:i...</td>\n",
       "      <td>InChI=1S/C8H8BF3O3/c1-15-7-3-2-5(8(10,11)12)4-...</td>\n",
       "    </tr>\n",
       "    <tr>\n",
       "      <th>95</th>\n",
       "      <td>CC(C)(C)c1cccc(B(O)O)c1</td>\n",
       "      <td>&lt;img data-content=\"rdkit/molecule\" src=\"data:i...</td>\n",
       "      <td>InChI=1S/C10H15BO2/c1-10(2,3)8-5-4-6-9(7-8)11(...</td>\n",
       "    </tr>\n",
       "    <tr>\n",
       "      <th>96</th>\n",
       "      <td>Cc1ccsc1B1OC(C)(C)C(C)(C)O1</td>\n",
       "      <td>&lt;img data-content=\"rdkit/molecule\" src=\"data:i...</td>\n",
       "      <td>InChI=1S/C11H17BO2S/c1-8-6-7-15-9(8)12-13-10(2...</td>\n",
       "    </tr>\n",
       "    <tr>\n",
       "      <th>97</th>\n",
       "      <td>OB(O)c1cc(Cl)ncc1Cl</td>\n",
       "      <td>&lt;img data-content=\"rdkit/molecule\" src=\"data:i...</td>\n",
       "      <td>InChI=1S/C5H4BCl2NO2/c7-4-2-9-5(8)1-3(4)6(10)1...</td>\n",
       "    </tr>\n",
       "    <tr>\n",
       "      <th>98</th>\n",
       "      <td>Cc1ccc(B(O)O)cc1C=O</td>\n",
       "      <td>&lt;img data-content=\"rdkit/molecule\" src=\"data:i...</td>\n",
       "      <td>InChI=1S/C8H9BO3/c1-6-2-3-8(9(11)12)4-7(6)5-10...</td>\n",
       "    </tr>\n",
       "  </tbody>\n",
       "</table>\n",
       "<p>99 rows × 3 columns</p>\n",
       "</div>"
      ],
      "text/plain": [
       "                                      smiles  \\\n",
       "0                    CC(C)Oc1ccc(Cl)cc1B(O)O   \n",
       "1                       Cc1cc(B(O)O)c(C)cc1F   \n",
       "2               CC1(C)OB(c2ccc(F)cc2)OC1(C)C   \n",
       "3   CC(C)(C)OC(=O)n1cccc1B1OC(C)(C)C(C)(C)O1   \n",
       "4                   OB(O)c1ccc(Oc2ccccc2)cc1   \n",
       "..                                       ...   \n",
       "94                 COc1ccc(C(F)(F)F)cc1B(O)O   \n",
       "95                   CC(C)(C)c1cccc(B(O)O)c1   \n",
       "96               Cc1ccsc1B1OC(C)(C)C(C)(C)O1   \n",
       "97                       OB(O)c1cc(Cl)ncc1Cl   \n",
       "98                       Cc1ccc(B(O)O)cc1C=O   \n",
       "\n",
       "                                                rdmol  \\\n",
       "0   <img data-content=\"rdkit/molecule\" src=\"data:i...   \n",
       "1   <img data-content=\"rdkit/molecule\" src=\"data:i...   \n",
       "2   <img data-content=\"rdkit/molecule\" src=\"data:i...   \n",
       "3   <img data-content=\"rdkit/molecule\" src=\"data:i...   \n",
       "4   <img data-content=\"rdkit/molecule\" src=\"data:i...   \n",
       "..                                                ...   \n",
       "94  <img data-content=\"rdkit/molecule\" src=\"data:i...   \n",
       "95  <img data-content=\"rdkit/molecule\" src=\"data:i...   \n",
       "96  <img data-content=\"rdkit/molecule\" src=\"data:i...   \n",
       "97  <img data-content=\"rdkit/molecule\" src=\"data:i...   \n",
       "98  <img data-content=\"rdkit/molecule\" src=\"data:i...   \n",
       "\n",
       "                                                inchi  \n",
       "0   InChI=1S/C9H12BClO3/c1-6(2)14-9-4-3-7(11)5-8(9...  \n",
       "1   InChI=1S/C8H10BFO2/c1-5-4-8(10)6(2)3-7(5)9(11)...  \n",
       "2   InChI=1S/C12H16BFO2/c1-11(2)12(3,4)16-13(15-11...  \n",
       "3   InChI=1S/C15H24BNO4/c1-13(2,3)19-12(18)17-10-8...  \n",
       "4   InChI=1S/C12H11BO3/c14-13(15)10-6-8-12(9-7-10)...  \n",
       "..                                                ...  \n",
       "94  InChI=1S/C8H8BF3O3/c1-15-7-3-2-5(8(10,11)12)4-...  \n",
       "95  InChI=1S/C10H15BO2/c1-10(2,3)8-5-4-6-9(7-8)11(...  \n",
       "96  InChI=1S/C11H17BO2S/c1-8-6-7-15-9(8)12-13-10(2...  \n",
       "97  InChI=1S/C5H4BCl2NO2/c7-4-2-9-5(8)1-3(4)6(10)1...  \n",
       "98  InChI=1S/C8H9BO3/c1-6-2-3-8(9(11)12)4-7(6)5-10...  \n",
       "\n",
       "[99 rows x 3 columns]"
      ]
     },
     "execution_count": 2,
     "metadata": {},
     "output_type": "execute_result"
    }
   ],
   "source": [
    "mols = pd.read_excel('smiles.xlsx',engine='openpyxl')\n",
    "print('Number of SMILES:',len(mols))\n",
    "\n",
    "mols = mols.drop_duplicates(subset=['smiles'])                         # drop duplicates based on smiles\n",
    "\n",
    "mols['rdmol'] = mols['smiles'].map(lambda x: Chem.MolFromSmiles(x))    # drop duplicates based on inchi\n",
    "mols['inchi'] = mols['rdmol'].map(Chem.MolToInchi)\n",
    "mols = mols.drop_duplicates(subset=\"inchi\")\n",
    "\n",
    "print('Number of SMILES after duplicates removed:',len(mols))\n",
    "\n",
    "mols"
   ]
  },
  {
   "cell_type": "code",
   "execution_count": 3,
   "metadata": {
    "ExecuteTime": {
     "end_time": "2022-01-05T01:47:43.049490Z",
     "start_time": "2022-01-05T01:47:42.047417Z"
    }
   },
   "outputs": [
    {
     "data": {
      "text/html": [
       "<div>\n",
       "<style scoped>\n",
       "    .dataframe tbody tr th:only-of-type {\n",
       "        vertical-align: middle;\n",
       "    }\n",
       "\n",
       "    .dataframe tbody tr th {\n",
       "        vertical-align: top;\n",
       "    }\n",
       "\n",
       "    .dataframe thead th {\n",
       "        text-align: right;\n",
       "    }\n",
       "</style>\n",
       "<table border=\"1\" class=\"dataframe\">\n",
       "  <thead>\n",
       "    <tr style=\"text-align: right;\">\n",
       "      <th></th>\n",
       "      <th>smiles</th>\n",
       "      <th>rdmol</th>\n",
       "      <th>inchi</th>\n",
       "      <th>rdmol_optimized</th>\n",
       "    </tr>\n",
       "  </thead>\n",
       "  <tbody>\n",
       "    <tr>\n",
       "      <th>0</th>\n",
       "      <td>CC(C)Oc1ccc(Cl)cc1B(O)O</td>\n",
       "      <td>&lt;img data-content=\"rdkit/molecule\" src=\"data:i...</td>\n",
       "      <td>InChI=1S/C9H12BClO3/c1-6(2)14-9-4-3-7(11)5-8(9...</td>\n",
       "      <td>&lt;img data-content=\"rdkit/molecule\" src=\"data:i...</td>\n",
       "    </tr>\n",
       "    <tr>\n",
       "      <th>1</th>\n",
       "      <td>Cc1cc(B(O)O)c(C)cc1F</td>\n",
       "      <td>&lt;img data-content=\"rdkit/molecule\" src=\"data:i...</td>\n",
       "      <td>InChI=1S/C8H10BFO2/c1-5-4-8(10)6(2)3-7(5)9(11)...</td>\n",
       "      <td>&lt;img data-content=\"rdkit/molecule\" src=\"data:i...</td>\n",
       "    </tr>\n",
       "    <tr>\n",
       "      <th>2</th>\n",
       "      <td>CC1(C)OB(c2ccc(F)cc2)OC1(C)C</td>\n",
       "      <td>&lt;img data-content=\"rdkit/molecule\" src=\"data:i...</td>\n",
       "      <td>InChI=1S/C12H16BFO2/c1-11(2)12(3,4)16-13(15-11...</td>\n",
       "      <td>&lt;img data-content=\"rdkit/molecule\" src=\"data:i...</td>\n",
       "    </tr>\n",
       "    <tr>\n",
       "      <th>3</th>\n",
       "      <td>CC(C)(C)OC(=O)n1cccc1B1OC(C)(C)C(C)(C)O1</td>\n",
       "      <td>&lt;img data-content=\"rdkit/molecule\" src=\"data:i...</td>\n",
       "      <td>InChI=1S/C15H24BNO4/c1-13(2,3)19-12(18)17-10-8...</td>\n",
       "      <td>&lt;img data-content=\"rdkit/molecule\" src=\"data:i...</td>\n",
       "    </tr>\n",
       "    <tr>\n",
       "      <th>4</th>\n",
       "      <td>OB(O)c1ccc(Oc2ccccc2)cc1</td>\n",
       "      <td>&lt;img data-content=\"rdkit/molecule\" src=\"data:i...</td>\n",
       "      <td>InChI=1S/C12H11BO3/c14-13(15)10-6-8-12(9-7-10)...</td>\n",
       "      <td>&lt;img data-content=\"rdkit/molecule\" src=\"data:i...</td>\n",
       "    </tr>\n",
       "    <tr>\n",
       "      <th>...</th>\n",
       "      <td>...</td>\n",
       "      <td>...</td>\n",
       "      <td>...</td>\n",
       "      <td>...</td>\n",
       "    </tr>\n",
       "    <tr>\n",
       "      <th>94</th>\n",
       "      <td>COc1ccc(C(F)(F)F)cc1B(O)O</td>\n",
       "      <td>&lt;img data-content=\"rdkit/molecule\" src=\"data:i...</td>\n",
       "      <td>InChI=1S/C8H8BF3O3/c1-15-7-3-2-5(8(10,11)12)4-...</td>\n",
       "      <td>&lt;img data-content=\"rdkit/molecule\" src=\"data:i...</td>\n",
       "    </tr>\n",
       "    <tr>\n",
       "      <th>95</th>\n",
       "      <td>CC(C)(C)c1cccc(B(O)O)c1</td>\n",
       "      <td>&lt;img data-content=\"rdkit/molecule\" src=\"data:i...</td>\n",
       "      <td>InChI=1S/C10H15BO2/c1-10(2,3)8-5-4-6-9(7-8)11(...</td>\n",
       "      <td>&lt;img data-content=\"rdkit/molecule\" src=\"data:i...</td>\n",
       "    </tr>\n",
       "    <tr>\n",
       "      <th>96</th>\n",
       "      <td>Cc1ccsc1B1OC(C)(C)C(C)(C)O1</td>\n",
       "      <td>&lt;img data-content=\"rdkit/molecule\" src=\"data:i...</td>\n",
       "      <td>InChI=1S/C11H17BO2S/c1-8-6-7-15-9(8)12-13-10(2...</td>\n",
       "      <td>&lt;img data-content=\"rdkit/molecule\" src=\"data:i...</td>\n",
       "    </tr>\n",
       "    <tr>\n",
       "      <th>97</th>\n",
       "      <td>OB(O)c1cc(Cl)ncc1Cl</td>\n",
       "      <td>&lt;img data-content=\"rdkit/molecule\" src=\"data:i...</td>\n",
       "      <td>InChI=1S/C5H4BCl2NO2/c7-4-2-9-5(8)1-3(4)6(10)1...</td>\n",
       "      <td>&lt;img data-content=\"rdkit/molecule\" src=\"data:i...</td>\n",
       "    </tr>\n",
       "    <tr>\n",
       "      <th>98</th>\n",
       "      <td>Cc1ccc(B(O)O)cc1C=O</td>\n",
       "      <td>&lt;img data-content=\"rdkit/molecule\" src=\"data:i...</td>\n",
       "      <td>InChI=1S/C8H9BO3/c1-6-2-3-8(9(11)12)4-7(6)5-10...</td>\n",
       "      <td>&lt;img data-content=\"rdkit/molecule\" src=\"data:i...</td>\n",
       "    </tr>\n",
       "  </tbody>\n",
       "</table>\n",
       "<p>99 rows × 4 columns</p>\n",
       "</div>"
      ],
      "text/plain": [
       "                                      smiles  \\\n",
       "0                    CC(C)Oc1ccc(Cl)cc1B(O)O   \n",
       "1                       Cc1cc(B(O)O)c(C)cc1F   \n",
       "2               CC1(C)OB(c2ccc(F)cc2)OC1(C)C   \n",
       "3   CC(C)(C)OC(=O)n1cccc1B1OC(C)(C)C(C)(C)O1   \n",
       "4                   OB(O)c1ccc(Oc2ccccc2)cc1   \n",
       "..                                       ...   \n",
       "94                 COc1ccc(C(F)(F)F)cc1B(O)O   \n",
       "95                   CC(C)(C)c1cccc(B(O)O)c1   \n",
       "96               Cc1ccsc1B1OC(C)(C)C(C)(C)O1   \n",
       "97                       OB(O)c1cc(Cl)ncc1Cl   \n",
       "98                       Cc1ccc(B(O)O)cc1C=O   \n",
       "\n",
       "                                                rdmol  \\\n",
       "0   <img data-content=\"rdkit/molecule\" src=\"data:i...   \n",
       "1   <img data-content=\"rdkit/molecule\" src=\"data:i...   \n",
       "2   <img data-content=\"rdkit/molecule\" src=\"data:i...   \n",
       "3   <img data-content=\"rdkit/molecule\" src=\"data:i...   \n",
       "4   <img data-content=\"rdkit/molecule\" src=\"data:i...   \n",
       "..                                                ...   \n",
       "94  <img data-content=\"rdkit/molecule\" src=\"data:i...   \n",
       "95  <img data-content=\"rdkit/molecule\" src=\"data:i...   \n",
       "96  <img data-content=\"rdkit/molecule\" src=\"data:i...   \n",
       "97  <img data-content=\"rdkit/molecule\" src=\"data:i...   \n",
       "98  <img data-content=\"rdkit/molecule\" src=\"data:i...   \n",
       "\n",
       "                                                inchi  \\\n",
       "0   InChI=1S/C9H12BClO3/c1-6(2)14-9-4-3-7(11)5-8(9...   \n",
       "1   InChI=1S/C8H10BFO2/c1-5-4-8(10)6(2)3-7(5)9(11)...   \n",
       "2   InChI=1S/C12H16BFO2/c1-11(2)12(3,4)16-13(15-11...   \n",
       "3   InChI=1S/C15H24BNO4/c1-13(2,3)19-12(18)17-10-8...   \n",
       "4   InChI=1S/C12H11BO3/c14-13(15)10-6-8-12(9-7-10)...   \n",
       "..                                                ...   \n",
       "94  InChI=1S/C8H8BF3O3/c1-15-7-3-2-5(8(10,11)12)4-...   \n",
       "95  InChI=1S/C10H15BO2/c1-10(2,3)8-5-4-6-9(7-8)11(...   \n",
       "96  InChI=1S/C11H17BO2S/c1-8-6-7-15-9(8)12-13-10(2...   \n",
       "97  InChI=1S/C5H4BCl2NO2/c7-4-2-9-5(8)1-3(4)6(10)1...   \n",
       "98  InChI=1S/C8H9BO3/c1-6-2-3-8(9(11)12)4-7(6)5-10...   \n",
       "\n",
       "                                      rdmol_optimized  \n",
       "0   <img data-content=\"rdkit/molecule\" src=\"data:i...  \n",
       "1   <img data-content=\"rdkit/molecule\" src=\"data:i...  \n",
       "2   <img data-content=\"rdkit/molecule\" src=\"data:i...  \n",
       "3   <img data-content=\"rdkit/molecule\" src=\"data:i...  \n",
       "4   <img data-content=\"rdkit/molecule\" src=\"data:i...  \n",
       "..                                                ...  \n",
       "94  <img data-content=\"rdkit/molecule\" src=\"data:i...  \n",
       "95  <img data-content=\"rdkit/molecule\" src=\"data:i...  \n",
       "96  <img data-content=\"rdkit/molecule\" src=\"data:i...  \n",
       "97  <img data-content=\"rdkit/molecule\" src=\"data:i...  \n",
       "98  <img data-content=\"rdkit/molecule\" src=\"data:i...  \n",
       "\n",
       "[99 rows x 4 columns]"
      ]
     },
     "execution_count": 3,
     "metadata": {},
     "output_type": "execute_result"
    }
   ],
   "source": [
    "def embed(mol):\n",
    "    mol_with_H = Chem.AddHs(mol)\n",
    "    Chem.AllChem.EmbedMolecule(mol_with_H)\n",
    "    Chem.AllChem.MMFFOptimizeMolecule(mol_with_H)\n",
    "    return mol_with_H\n",
    "\n",
    "mols['rdmol_optimized'] = mols.rdmol.map(embed)\n",
    "\n",
    "mols"
   ]
  },
  {
   "cell_type": "markdown",
   "metadata": {},
   "source": [
    "# Calculate Mordred descriptors\n",
    "\n",
    "List of descriptors = https://mordred-descriptor.github.io/documentation/master/descriptors.html"
   ]
  },
  {
   "cell_type": "code",
   "execution_count": 4,
   "metadata": {
    "ExecuteTime": {
     "end_time": "2022-01-05T01:48:07.404715Z",
     "start_time": "2022-01-05T01:47:52.333030Z"
    }
   },
   "outputs": [
    {
     "name": "stderr",
     "output_type": "stream",
     "text": [
      "100%|██████████| 99/99 [00:14<00:00,  6.71it/s]"
     ]
    },
    {
     "name": "stdout",
     "output_type": "stream",
     "text": [
      "          ABC      ABCGG  nAcid  nBase    SpAbs_A   SpMax_A  SpDiam_A  \\\n",
      "0   10.365564   9.738246      0      0  16.426384  2.337335  4.674671   \n",
      "1    8.910910   8.583028      0      0  14.004903  2.346955  4.693910   \n",
      "2   12.630705  11.241455      0      0  18.896779  2.508655  4.811430   \n",
      "3   16.562115  15.535186      0      0  23.740263  2.529970  4.832745   \n",
      "4   12.199155   9.978922      0      0  20.509223  2.288246  4.576491   \n",
      "..        ...        ...    ...    ...        ...       ...       ...   \n",
      "94  11.159647  10.580386      0      0  17.416966  2.389261  4.778521   \n",
      "95   9.785874   9.203562      0      0  14.978073  2.344507  4.689013   \n",
      "96  11.883158  11.470630      0      0  17.645288  2.519531  4.822306   \n",
      "97   8.134854   7.808786      0      0  13.132593  2.305040  4.610080   \n",
      "98   8.732571   8.355757      0      0  14.414901  2.309323  4.618646   \n",
      "\n",
      "       SpAD_A   SpMAD_A   LogEE_A  ...      SRW10     TSRW10          MW  \\\n",
      "0   16.426384  1.173313  3.526972  ...   9.299175  45.122750  214.056802   \n",
      "1   14.004903  1.167075  3.383430  ...   9.296977  42.737439  168.075788   \n",
      "2   18.896779  1.181049  3.716047  ...   9.919115  63.748556  222.122738   \n",
      "3   23.740263  1.130489  3.978896  ...  10.172560  71.682278  293.179839   \n",
      "4   20.509223  1.281826  3.685820  ...   9.370331  47.806046  214.080125   \n",
      "..        ...       ...       ...  ...        ...        ...         ...   \n",
      "94  17.416966  1.161131  3.604322  ...   9.595671  47.058295  220.051859   \n",
      "95  14.978073  1.152159  3.464600  ...   9.380674  44.214989  178.116510   \n",
      "96  17.645288  1.176353  3.661438  ...   9.894094  64.149046  224.104231   \n",
      "97  13.132593  1.193872  3.294669  ...   9.096387  41.025392  190.971214   \n",
      "98  14.414901  1.201242  3.376142  ...   9.154299  42.370078  164.064475   \n",
      "\n",
      "          AMW  WPath  WPol  Zagreb1  Zagreb2   mZagreb1  mZagreb2  \n",
      "0    8.232954    300    18     66.0     73.0   6.555556  3.138889  \n",
      "1    7.639809    187    17     58.0     66.0   6.055556  2.666667  \n",
      "2    6.941336    423    25     88.0    104.0   6.958333  3.256944  \n",
      "3    6.515108    899    32    116.0    136.0  10.131944  4.187500  \n",
      "4    7.928894    489    20     78.0     87.0   4.944444  3.611111  \n",
      "..        ...    ...   ...      ...      ...        ...       ...  \n",
      "94   9.567472    352    22     74.0     84.0   7.506944  3.305556  \n",
      "95   6.361304    240    17     64.0     71.0   6.395833  2.777778  \n",
      "96   7.003257    335    23     84.0    101.0   6.708333  3.034722  \n",
      "97  12.731414    148    14     52.0     58.0   5.194444  2.472222  \n",
      "98   7.812594    195    16     56.0     63.0   5.444444  2.805556  \n",
      "\n",
      "[99 rows x 1826 columns]\n"
     ]
    },
    {
     "name": "stderr",
     "output_type": "stream",
     "text": [
      "\n"
     ]
    }
   ],
   "source": [
    "calc = Calculator(descriptors) # create calculator for all mordred descriptors (can also specify subtype)\n",
    "\n",
    "df=calc.pandas(mols['rdmol_optimized'])\n",
    "print(df)"
   ]
  },
  {
   "cell_type": "markdown",
   "metadata": {},
   "source": [
    "Replace mordred errors with NaNs then drop those descriptors/columns"
   ]
  },
  {
   "cell_type": "code",
   "execution_count": 5,
   "metadata": {
    "ExecuteTime": {
     "end_time": "2022-01-05T01:48:10.676050Z",
     "start_time": "2022-01-05T01:48:10.400590Z"
    },
    "scrolled": false
   },
   "outputs": [
    {
     "name": "stdout",
     "output_type": "stream",
     "text": [
      "(99, 1549)\n"
     ]
    }
   ],
   "source": [
    "df=df.applymap(lambda x: np.nan if type(x) in [mordred.error.Missing,mordred.error.Error] else x)\n",
    "df=df.dropna(axis=1)\n",
    "print(df.shape)"
   ]
  },
  {
   "cell_type": "markdown",
   "metadata": {},
   "source": [
    "Drop columns that have a single value"
   ]
  },
  {
   "cell_type": "code",
   "execution_count": 6,
   "metadata": {
    "ExecuteTime": {
     "end_time": "2022-01-05T01:48:25.749598Z",
     "start_time": "2022-01-05T01:48:25.675854Z"
    }
   },
   "outputs": [
    {
     "name": "stdout",
     "output_type": "stream",
     "text": [
      "(99, 1330)\n"
     ]
    }
   ],
   "source": [
    "non_zero_std = df.std() != 0\n",
    "df = df [non_zero_std[non_zero_std].index]\n",
    "print(df.shape)"
   ]
  },
  {
   "cell_type": "markdown",
   "metadata": {},
   "source": [
    "Drop highly correlated descriptors: If a pair of descriptors have a Pearson correlation coefficient (r) value greater than the threshold then one descriptor will be removed."
   ]
  },
  {
   "cell_type": "code",
   "execution_count": 7,
   "metadata": {
    "ExecuteTime": {
     "end_time": "2022-01-05T01:48:36.137696Z",
     "start_time": "2022-01-05T01:48:35.758758Z"
    }
   },
   "outputs": [
    {
     "name": "stdout",
     "output_type": "stream",
     "text": [
      "(99, 611)\n"
     ]
    }
   ],
   "source": [
    "threshold=0.95\n",
    "df_corr = df.corr().abs()\n",
    "upper = df_corr.where(np.triu(np.ones(df_corr.shape), k=1).astype(np.bool))\n",
    "to_drop = [column for column in upper.columns if any(upper[column] > threshold)]\n",
    "df = df.drop(to_drop, axis=1)\n",
    "print(df.shape)"
   ]
  },
  {
   "cell_type": "markdown",
   "metadata": {},
   "source": [
    "Save the excel"
   ]
  },
  {
   "cell_type": "code",
   "execution_count": 8,
   "metadata": {
    "ExecuteTime": {
     "end_time": "2022-01-05T01:48:42.257114Z",
     "start_time": "2022-01-05T01:48:42.213634Z"
    }
   },
   "outputs": [
    {
     "data": {
      "text/html": [
       "<div>\n",
       "<style scoped>\n",
       "    .dataframe tbody tr th:only-of-type {\n",
       "        vertical-align: middle;\n",
       "    }\n",
       "\n",
       "    .dataframe tbody tr th {\n",
       "        vertical-align: top;\n",
       "    }\n",
       "\n",
       "    .dataframe thead th {\n",
       "        text-align: right;\n",
       "    }\n",
       "</style>\n",
       "<table border=\"1\" class=\"dataframe\">\n",
       "  <thead>\n",
       "    <tr style=\"text-align: right;\">\n",
       "      <th></th>\n",
       "      <th>smiles</th>\n",
       "      <th>ABC</th>\n",
       "      <th>nAcid</th>\n",
       "      <th>nBase</th>\n",
       "      <th>SpMax_A</th>\n",
       "      <th>SpDiam_A</th>\n",
       "      <th>SpMAD_A</th>\n",
       "      <th>VE1_A</th>\n",
       "      <th>VR1_A</th>\n",
       "      <th>nAromAtom</th>\n",
       "      <th>...</th>\n",
       "      <th>JGI2</th>\n",
       "      <th>JGI3</th>\n",
       "      <th>JGI4</th>\n",
       "      <th>JGI5</th>\n",
       "      <th>JGI6</th>\n",
       "      <th>JGI7</th>\n",
       "      <th>JGI8</th>\n",
       "      <th>JGI9</th>\n",
       "      <th>JGI10</th>\n",
       "      <th>TopoShapeIndex</th>\n",
       "    </tr>\n",
       "  </thead>\n",
       "  <tbody>\n",
       "    <tr>\n",
       "      <th>0</th>\n",
       "      <td>CC(C)Oc1ccc(Cl)cc1B(O)O</td>\n",
       "      <td>10.365564</td>\n",
       "      <td>0</td>\n",
       "      <td>0</td>\n",
       "      <td>2.337335</td>\n",
       "      <td>4.674671</td>\n",
       "      <td>1.173313</td>\n",
       "      <td>3.353025</td>\n",
       "      <td>60.812193</td>\n",
       "      <td>6</td>\n",
       "      <td>...</td>\n",
       "      <td>0.081871</td>\n",
       "      <td>0.059028</td>\n",
       "      <td>0.059608</td>\n",
       "      <td>0.037202</td>\n",
       "      <td>0.023090</td>\n",
       "      <td>0.000000</td>\n",
       "      <td>0.000000</td>\n",
       "      <td>0.000000</td>\n",
       "      <td>0.000000</td>\n",
       "      <td>0.750000</td>\n",
       "    </tr>\n",
       "    <tr>\n",
       "      <th>1</th>\n",
       "      <td>Cc1cc(B(O)O)c(C)cc1F</td>\n",
       "      <td>8.910910</td>\n",
       "      <td>0</td>\n",
       "      <td>0</td>\n",
       "      <td>2.346955</td>\n",
       "      <td>4.693910</td>\n",
       "      <td>1.167075</td>\n",
       "      <td>3.202596</td>\n",
       "      <td>42.402376</td>\n",
       "      <td>6</td>\n",
       "      <td>...</td>\n",
       "      <td>0.117647</td>\n",
       "      <td>0.066176</td>\n",
       "      <td>0.070370</td>\n",
       "      <td>0.039352</td>\n",
       "      <td>0.000000</td>\n",
       "      <td>0.000000</td>\n",
       "      <td>0.000000</td>\n",
       "      <td>0.000000</td>\n",
       "      <td>0.000000</td>\n",
       "      <td>1.000000</td>\n",
       "    </tr>\n",
       "    <tr>\n",
       "      <th>2</th>\n",
       "      <td>CC1(C)OB(c2ccc(F)cc2)OC1(C)C</td>\n",
       "      <td>12.630705</td>\n",
       "      <td>0</td>\n",
       "      <td>0</td>\n",
       "      <td>2.508655</td>\n",
       "      <td>4.811430</td>\n",
       "      <td>1.181049</td>\n",
       "      <td>3.434343</td>\n",
       "      <td>104.214302</td>\n",
       "      <td>6</td>\n",
       "      <td>...</td>\n",
       "      <td>0.131687</td>\n",
       "      <td>0.064444</td>\n",
       "      <td>0.068016</td>\n",
       "      <td>0.044926</td>\n",
       "      <td>0.018371</td>\n",
       "      <td>0.046155</td>\n",
       "      <td>0.000000</td>\n",
       "      <td>0.000000</td>\n",
       "      <td>0.000000</td>\n",
       "      <td>1.000000</td>\n",
       "    </tr>\n",
       "    <tr>\n",
       "      <th>3</th>\n",
       "      <td>CC(C)(C)OC(=O)n1cccc1B1OC(C)(C)C(C)(C)O1</td>\n",
       "      <td>16.562115</td>\n",
       "      <td>0</td>\n",
       "      <td>0</td>\n",
       "      <td>2.529970</td>\n",
       "      <td>4.832745</td>\n",
       "      <td>1.130489</td>\n",
       "      <td>3.816131</td>\n",
       "      <td>179.171886</td>\n",
       "      <td>5</td>\n",
       "      <td>...</td>\n",
       "      <td>0.117284</td>\n",
       "      <td>0.075521</td>\n",
       "      <td>0.052500</td>\n",
       "      <td>0.039095</td>\n",
       "      <td>0.036659</td>\n",
       "      <td>0.010364</td>\n",
       "      <td>0.039005</td>\n",
       "      <td>0.000000</td>\n",
       "      <td>0.000000</td>\n",
       "      <td>0.800000</td>\n",
       "    </tr>\n",
       "    <tr>\n",
       "      <th>4</th>\n",
       "      <td>OB(O)c1ccc(Oc2ccccc2)cc1</td>\n",
       "      <td>12.199155</td>\n",
       "      <td>0</td>\n",
       "      <td>0</td>\n",
       "      <td>2.288246</td>\n",
       "      <td>4.576491</td>\n",
       "      <td>1.281826</td>\n",
       "      <td>3.724763</td>\n",
       "      <td>78.586156</td>\n",
       "      <td>12</td>\n",
       "      <td>...</td>\n",
       "      <td>0.060606</td>\n",
       "      <td>0.034375</td>\n",
       "      <td>0.038222</td>\n",
       "      <td>0.019231</td>\n",
       "      <td>0.014545</td>\n",
       "      <td>0.021701</td>\n",
       "      <td>0.012346</td>\n",
       "      <td>0.008875</td>\n",
       "      <td>0.012346</td>\n",
       "      <td>1.000000</td>\n",
       "    </tr>\n",
       "    <tr>\n",
       "      <th>...</th>\n",
       "      <td>...</td>\n",
       "      <td>...</td>\n",
       "      <td>...</td>\n",
       "      <td>...</td>\n",
       "      <td>...</td>\n",
       "      <td>...</td>\n",
       "      <td>...</td>\n",
       "      <td>...</td>\n",
       "      <td>...</td>\n",
       "      <td>...</td>\n",
       "      <td>...</td>\n",
       "      <td>...</td>\n",
       "      <td>...</td>\n",
       "      <td>...</td>\n",
       "      <td>...</td>\n",
       "      <td>...</td>\n",
       "      <td>...</td>\n",
       "      <td>...</td>\n",
       "      <td>...</td>\n",
       "      <td>...</td>\n",
       "      <td>...</td>\n",
       "    </tr>\n",
       "    <tr>\n",
       "      <th>94</th>\n",
       "      <td>COc1ccc(C(F)(F)F)cc1B(O)O</td>\n",
       "      <td>11.159647</td>\n",
       "      <td>0</td>\n",
       "      <td>0</td>\n",
       "      <td>2.389261</td>\n",
       "      <td>4.778521</td>\n",
       "      <td>1.161131</td>\n",
       "      <td>3.514755</td>\n",
       "      <td>62.504325</td>\n",
       "      <td>6</td>\n",
       "      <td>...</td>\n",
       "      <td>0.111111</td>\n",
       "      <td>0.059659</td>\n",
       "      <td>0.055439</td>\n",
       "      <td>0.062500</td>\n",
       "      <td>0.012245</td>\n",
       "      <td>0.000000</td>\n",
       "      <td>0.000000</td>\n",
       "      <td>0.000000</td>\n",
       "      <td>0.000000</td>\n",
       "      <td>0.750000</td>\n",
       "    </tr>\n",
       "    <tr>\n",
       "      <th>95</th>\n",
       "      <td>CC(C)(C)c1cccc(B(O)O)c1</td>\n",
       "      <td>9.785874</td>\n",
       "      <td>0</td>\n",
       "      <td>0</td>\n",
       "      <td>2.344507</td>\n",
       "      <td>4.689013</td>\n",
       "      <td>1.152159</td>\n",
       "      <td>3.323177</td>\n",
       "      <td>49.074506</td>\n",
       "      <td>6</td>\n",
       "      <td>...</td>\n",
       "      <td>0.105263</td>\n",
       "      <td>0.058824</td>\n",
       "      <td>0.052308</td>\n",
       "      <td>0.064583</td>\n",
       "      <td>0.000000</td>\n",
       "      <td>0.000000</td>\n",
       "      <td>0.000000</td>\n",
       "      <td>0.000000</td>\n",
       "      <td>0.000000</td>\n",
       "      <td>1.000000</td>\n",
       "    </tr>\n",
       "    <tr>\n",
       "      <th>96</th>\n",
       "      <td>Cc1ccsc1B1OC(C)(C)C(C)(C)O1</td>\n",
       "      <td>11.883158</td>\n",
       "      <td>0</td>\n",
       "      <td>0</td>\n",
       "      <td>2.519531</td>\n",
       "      <td>4.822306</td>\n",
       "      <td>1.176353</td>\n",
       "      <td>3.476923</td>\n",
       "      <td>72.699129</td>\n",
       "      <td>5</td>\n",
       "      <td>...</td>\n",
       "      <td>0.136752</td>\n",
       "      <td>0.080918</td>\n",
       "      <td>0.058571</td>\n",
       "      <td>0.053333</td>\n",
       "      <td>0.018519</td>\n",
       "      <td>0.000000</td>\n",
       "      <td>0.000000</td>\n",
       "      <td>0.000000</td>\n",
       "      <td>0.000000</td>\n",
       "      <td>1.000000</td>\n",
       "    </tr>\n",
       "    <tr>\n",
       "      <th>97</th>\n",
       "      <td>OB(O)c1cc(Cl)ncc1Cl</td>\n",
       "      <td>8.134854</td>\n",
       "      <td>0</td>\n",
       "      <td>0</td>\n",
       "      <td>2.305040</td>\n",
       "      <td>4.610080</td>\n",
       "      <td>1.193872</td>\n",
       "      <td>3.089123</td>\n",
       "      <td>37.182651</td>\n",
       "      <td>6</td>\n",
       "      <td>...</td>\n",
       "      <td>0.103704</td>\n",
       "      <td>0.066964</td>\n",
       "      <td>0.065333</td>\n",
       "      <td>0.025000</td>\n",
       "      <td>0.000000</td>\n",
       "      <td>0.000000</td>\n",
       "      <td>0.000000</td>\n",
       "      <td>0.000000</td>\n",
       "      <td>0.000000</td>\n",
       "      <td>0.666667</td>\n",
       "    </tr>\n",
       "    <tr>\n",
       "      <th>98</th>\n",
       "      <td>Cc1ccc(B(O)O)cc1C=O</td>\n",
       "      <td>8.732571</td>\n",
       "      <td>0</td>\n",
       "      <td>0</td>\n",
       "      <td>2.309323</td>\n",
       "      <td>4.618646</td>\n",
       "      <td>1.201242</td>\n",
       "      <td>3.192395</td>\n",
       "      <td>44.424668</td>\n",
       "      <td>6</td>\n",
       "      <td>...</td>\n",
       "      <td>0.111111</td>\n",
       "      <td>0.050781</td>\n",
       "      <td>0.063030</td>\n",
       "      <td>0.058532</td>\n",
       "      <td>0.000000</td>\n",
       "      <td>0.000000</td>\n",
       "      <td>0.000000</td>\n",
       "      <td>0.000000</td>\n",
       "      <td>0.000000</td>\n",
       "      <td>1.000000</td>\n",
       "    </tr>\n",
       "  </tbody>\n",
       "</table>\n",
       "<p>99 rows × 612 columns</p>\n",
       "</div>"
      ],
      "text/plain": [
       "                                      smiles        ABC  nAcid  nBase  \\\n",
       "0                    CC(C)Oc1ccc(Cl)cc1B(O)O  10.365564      0      0   \n",
       "1                       Cc1cc(B(O)O)c(C)cc1F   8.910910      0      0   \n",
       "2               CC1(C)OB(c2ccc(F)cc2)OC1(C)C  12.630705      0      0   \n",
       "3   CC(C)(C)OC(=O)n1cccc1B1OC(C)(C)C(C)(C)O1  16.562115      0      0   \n",
       "4                   OB(O)c1ccc(Oc2ccccc2)cc1  12.199155      0      0   \n",
       "..                                       ...        ...    ...    ...   \n",
       "94                 COc1ccc(C(F)(F)F)cc1B(O)O  11.159647      0      0   \n",
       "95                   CC(C)(C)c1cccc(B(O)O)c1   9.785874      0      0   \n",
       "96               Cc1ccsc1B1OC(C)(C)C(C)(C)O1  11.883158      0      0   \n",
       "97                       OB(O)c1cc(Cl)ncc1Cl   8.134854      0      0   \n",
       "98                       Cc1ccc(B(O)O)cc1C=O   8.732571      0      0   \n",
       "\n",
       "     SpMax_A  SpDiam_A   SpMAD_A     VE1_A       VR1_A  nAromAtom  ...  \\\n",
       "0   2.337335  4.674671  1.173313  3.353025   60.812193          6  ...   \n",
       "1   2.346955  4.693910  1.167075  3.202596   42.402376          6  ...   \n",
       "2   2.508655  4.811430  1.181049  3.434343  104.214302          6  ...   \n",
       "3   2.529970  4.832745  1.130489  3.816131  179.171886          5  ...   \n",
       "4   2.288246  4.576491  1.281826  3.724763   78.586156         12  ...   \n",
       "..       ...       ...       ...       ...         ...        ...  ...   \n",
       "94  2.389261  4.778521  1.161131  3.514755   62.504325          6  ...   \n",
       "95  2.344507  4.689013  1.152159  3.323177   49.074506          6  ...   \n",
       "96  2.519531  4.822306  1.176353  3.476923   72.699129          5  ...   \n",
       "97  2.305040  4.610080  1.193872  3.089123   37.182651          6  ...   \n",
       "98  2.309323  4.618646  1.201242  3.192395   44.424668          6  ...   \n",
       "\n",
       "        JGI2      JGI3      JGI4      JGI5      JGI6      JGI7      JGI8  \\\n",
       "0   0.081871  0.059028  0.059608  0.037202  0.023090  0.000000  0.000000   \n",
       "1   0.117647  0.066176  0.070370  0.039352  0.000000  0.000000  0.000000   \n",
       "2   0.131687  0.064444  0.068016  0.044926  0.018371  0.046155  0.000000   \n",
       "3   0.117284  0.075521  0.052500  0.039095  0.036659  0.010364  0.039005   \n",
       "4   0.060606  0.034375  0.038222  0.019231  0.014545  0.021701  0.012346   \n",
       "..       ...       ...       ...       ...       ...       ...       ...   \n",
       "94  0.111111  0.059659  0.055439  0.062500  0.012245  0.000000  0.000000   \n",
       "95  0.105263  0.058824  0.052308  0.064583  0.000000  0.000000  0.000000   \n",
       "96  0.136752  0.080918  0.058571  0.053333  0.018519  0.000000  0.000000   \n",
       "97  0.103704  0.066964  0.065333  0.025000  0.000000  0.000000  0.000000   \n",
       "98  0.111111  0.050781  0.063030  0.058532  0.000000  0.000000  0.000000   \n",
       "\n",
       "        JGI9     JGI10  TopoShapeIndex  \n",
       "0   0.000000  0.000000        0.750000  \n",
       "1   0.000000  0.000000        1.000000  \n",
       "2   0.000000  0.000000        1.000000  \n",
       "3   0.000000  0.000000        0.800000  \n",
       "4   0.008875  0.012346        1.000000  \n",
       "..       ...       ...             ...  \n",
       "94  0.000000  0.000000        0.750000  \n",
       "95  0.000000  0.000000        1.000000  \n",
       "96  0.000000  0.000000        1.000000  \n",
       "97  0.000000  0.000000        0.666667  \n",
       "98  0.000000  0.000000        1.000000  \n",
       "\n",
       "[99 rows x 612 columns]"
      ]
     },
     "execution_count": 8,
     "metadata": {},
     "output_type": "execute_result"
    }
   ],
   "source": [
    "to_save=pd.concat([mols[['smiles']], df], axis=1)\n",
    "to_save"
   ]
  },
  {
   "cell_type": "code",
   "execution_count": null,
   "metadata": {
    "ExecuteTime": {
     "end_time": "2022-01-04T19:57:58.701509Z",
     "start_time": "2022-01-04T19:57:58.092207Z"
    }
   },
   "outputs": [],
   "source": [
    "to_save.to_excel('mordred_descriptors.xlsx', index = True)"
   ]
  },
  {
   "cell_type": "markdown",
   "metadata": {},
   "source": [
    "# PCA and K-means clustering\n",
    "\n",
    "Test the descriptors. If an error due to NaN arises, go to section 4."
   ]
  },
  {
   "cell_type": "code",
   "execution_count": 9,
   "metadata": {
    "ExecuteTime": {
     "end_time": "2022-01-05T01:48:50.566314Z",
     "start_time": "2022-01-05T01:48:50.529905Z"
    },
    "scrolled": true
   },
   "outputs": [
    {
     "name": "stdout",
     "output_type": "stream",
     "text": [
      "Variance explained by individual PCs: [0.24 0.12 0.08 0.05 0.04 0.04 0.03 0.03 0.03 0.02] \n",
      "\n",
      "Total variance explained by PCs: 0.69\n"
     ]
    }
   ],
   "source": [
    "df.index = df.index.astype(int)\n",
    "df.dropna(axis=0,inplace=True)\n",
    "X_all = np.array(df)\n",
    "X_all_ids = np.array(df.index)\n",
    "scaler = StandardScaler()\n",
    "scaler.fit(X_all)\n",
    "X_all_sc = scaler.transform(X_all)\n",
    "\n",
    "pca = PCA(n_components=10)     # choose number of PCs\n",
    "\n",
    "pca.fit(X_all_sc)\n",
    "X_all_pca    = pca.transform(X_all_sc)\n",
    "pca_score = pca.explained_variance_ratio_\n",
    "pca_values = pca.singular_values_\n",
    "print('Variance explained by individual PCs:',np.around(pca.explained_variance_ratio_, decimals=2),'\\n')\n",
    "print('Total variance explained by PCs:',np.around(np.sum(pca.explained_variance_ratio_), decimals=2))"
   ]
  },
  {
   "cell_type": "code",
   "execution_count": 10,
   "metadata": {
    "ExecuteTime": {
     "end_time": "2022-01-05T01:49:15.436873Z",
     "start_time": "2022-01-05T01:49:15.277236Z"
    },
    "scrolled": false
   },
   "outputs": [
    {
     "data": {
      "image/png": "[encoded data removed]",
      "text/plain": [
       "<Figure size 648x648 with 1 Axes>"
      ]
     },
     "metadata": {
      "needs_background": "light"
     },
     "output_type": "display_data"
    }
   ],
   "source": [
    "nclusters = 10     # choose number of clusters\n",
    "\n",
    "####################################################################################\n",
    "\n",
    "X_use = X_all_pca\n",
    "X_main_ids = X_all_ids\n",
    "X_kmeans = X_all_pca\n",
    "kmeans = KMeans(n_clusters=nclusters, random_state=42).fit(X_kmeans)\n",
    "dists = []\n",
    "for x in range(len(X_kmeans)):\n",
    "    delta = [X_kmeans[x,i]-kmeans.cluster_centers_[kmeans.labels_[x],i] for i in range(len(X_kmeans[0]))]\n",
    "    dist = np.linalg.norm(delta)\n",
    "    dists.append(dist)\n",
    "clusters = {}\n",
    "clusterdists = {}\n",
    "clustermins = []\n",
    "clusterorders_dict = {}\n",
    "clusterorders = np.zeros(X_kmeans.shape[0])\n",
    "for x in range(nclusters):\n",
    "    clusters[x] = [i for i in range(len(kmeans.labels_)) if kmeans.labels_[i] == x]\n",
    "    clusterdists[x] = [dists[i] for i in clusters[x]]\n",
    "    clustermins.append(clusters[x][clusterdists[x].index(min(clusterdists[x]))])\n",
    "    clusterorders_dict[x] = [y for _,y in sorted(zip(clusterdists[x],clusters[x]))]\n",
    "    for i in clusters[x]:\n",
    "        clusterorders[i] = clusterorders_dict[x].index(i)+1\n",
    "f_ind_1 = 0\n",
    "f_ind_2 = 1\n",
    "x_min, x_max = X_kmeans[:, f_ind_1].min() - 2, X_kmeans[:, f_ind_1].max() + 2\n",
    "y_min, y_max = X_kmeans[:, f_ind_2].min() - 2, X_kmeans[:, f_ind_2].max() + 2\n",
    "plt.figure(figsize=(9,9))\n",
    "extent = [x_min,x_max,y_min,y_max]\n",
    "plt.xticks(fontsize=15) \n",
    "plt.yticks(fontsize=15)\n",
    "plt.xlabel(r\"PC1\",fontsize=20)\n",
    "plt.ylabel(r\"PC2\",fontsize=20)\n",
    "plt.locator_params(axis='y', nbins=8)\n",
    "plt.xlim(x_min,x_max)\n",
    "plt.ylim(y_min,y_max)\n",
    "mapping = kmeans.labels_\n",
    "cMap = \"tab20c\"\n",
    "plt.scatter(X_kmeans[:,f_ind_1], X_kmeans[:,f_ind_2],c=mapping,cmap=cMap,alpha=.5,marker=\".\",s=500,edgecolor=\"black\",linewidth=0.5)\n",
    "main_row_id = list(enumerate(X_main_ids))\n",
    "clusters_with_ids = {}\n",
    "for i in range(0,len(clusters)):\n",
    "    emptylist = []\n",
    "    for j in range(0,len(clusters[i])):\n",
    "        emptylist.append(main_row_id[clusters[i][j]][1])\n",
    "    clusters_with_ids[i] = emptylist\n",
    "    \n",
    "### plot ligand ids    \n",
    "#for i in range(0,nclusters):\n",
    "#    for j in range(0,len(clusters_with_ids[i])):\n",
    "#        plt.text(X_use[clusters[i][j],f_ind_1],X_use[clusters[i][j],f_ind_2],\" \"+str(clusters_with_ids[i][j]),color=\"blue\",fontsize=12,ha=\"left\")\n",
    "\n",
    "### plot centroid labels\n",
    "#for i in range(0,nclusters):\n",
    "#    for j in range(0,len(clusters_with_ids[i])):\n",
    "#        if clusters[i][j] in clustermins:\n",
    "#            plt.text(X_use[clusters[i][j],f_ind_1],X_use[clusters[i][j],f_ind_2],\" \"+str(clusters_with_ids[i][j]),color=\"red\",fontsize=13,ha=\"right\")\n",
    "    \n",
    "plt.tight_layout()\n",
    "#plt.savefig(\"mordred_pca_plot.png\",dpi=300)\n",
    "plt.show()     "
   ]
  },
  {
   "cell_type": "markdown",
   "metadata": {},
   "source": [
    "Print structures closest to the cluster centroids"
   ]
  },
  {
   "cell_type": "code",
   "execution_count": 11,
   "metadata": {
    "ExecuteTime": {
     "end_time": "2022-01-05T01:49:18.210825Z",
     "start_time": "2022-01-05T01:49:18.021842Z"
    }
   },
   "outputs": [
    {
     "data": {
      "image/png": "[encoded data removed]",
      "text/plain": [
       "<PIL.PngImagePlugin.PngImageFile image mode=RGB size=1600x1200 at 0x7FDA2CC5EFD0>"
      ]
     },
     "execution_count": 11,
     "metadata": {},
     "output_type": "execute_result"
    }
   ],
   "source": [
    "smiles = list(mols['smiles'])\n",
    "\n",
    "closest_to_centroids = []\n",
    "for i in clustermins:\n",
    "    closest_to_centroids.append(smiles[i])\n",
    "\n",
    "count=0\n",
    "subms = []\n",
    "for i in closest_to_centroids:\n",
    "    x = Chem.MolFromSmiles(i)\n",
    "    count+=1\n",
    "    subms.append(x)\n",
    "clustermins_str = [str(i) for i in clustermins]\n",
    "my_labels = clustermins_str  \n",
    "molsPerRow = 4\n",
    "subImgSize= (400,400)\n",
    "nRows = -(count // -molsPerRow)\n",
    "fullSize = (molsPerRow * subImgSize[0], nRows * subImgSize[1])\n",
    "img = rdMolDraw2D.MolDraw2DCairo(fullSize[0],fullSize[1],subImgSize[0], subImgSize[1]) # setting up the image\n",
    "img.drawOptions().legendFontSize=20\n",
    "img.DrawMolecules(subms[:],legends=my_labels[:])\n",
    "img.SetFontSize(100)\n",
    "img.FinishDrawing()\n",
    "\n",
    "with open('centroids.png','wb+') as wfp:      # opening a png file, goes into current folder\n",
    "    wfp.write(img.GetDrawingText())           # saving in the image\n",
    "Image.open('centroids.png')                   # opening it in the notebook"
   ]
  },
  {
   "cell_type": "markdown",
   "metadata": {},
   "source": [
    "# Finding other NaNs in X_all_sc"
   ]
  },
  {
   "cell_type": "markdown",
   "metadata": {},
   "source": [
    "Find descriptors with bad sample values"
   ]
  },
  {
   "cell_type": "code",
   "execution_count": null,
   "metadata": {
    "ExecuteTime": {
     "end_time": "2022-01-04T18:14:19.969823Z",
     "start_time": "2022-01-04T18:14:19.955818Z"
    }
   },
   "outputs": [],
   "source": [
    "for i in range(0,len(X_all_sc)):\n",
    "    if np.isnan(X_all_sc[i]).any():\n",
    "        for j in range(0,len(X_all_sc[i])):\n",
    "            if np.isnan(X_all_sc[i][j]):\n",
    "                print('sample',i,'contains NaN for descriptor',j)"
   ]
  },
  {
   "cell_type": "markdown",
   "metadata": {},
   "source": [
    "Find samples with bad descriptor values (Jordan's code)"
   ]
  },
  {
   "cell_type": "code",
   "execution_count": null,
   "metadata": {
    "ExecuteTime": {
     "end_time": "2022-01-04T18:14:28.494234Z",
     "start_time": "2022-01-04T18:14:27.049050Z"
    }
   },
   "outputs": [],
   "source": [
    "problem_samples = []\n",
    "for i in range(0,len(X_all_sc)):\n",
    "    if np.isnan(X_all_sc[i]).any():\n",
    "        for j in range(0,len(X_all_sc[i])):\n",
    "            if np.isnan(X_all_sc[i][j]):\n",
    "                problem_samples.append(i)\n",
    "                #print('sample',i,'contains NaN for descriptor',j)\n",
    "unique_problem_samples = []\n",
    "for i in problem_samples:\n",
    "    if i not in unique_problem_samples:\n",
    "        unique_problem_samples.append(i)\n",
    "    else:\n",
    "        pass\n",
    "print(\"Problematic samples that will be removed are: \" + str(unique_problem_samples))\n",
    "df_with_deleted_rows = df2.drop(unique_problem_samples)\n",
    "df_with_deleted_rows.to_excel(r'arylboronicacid_desc_test.xlsx', index = True)\n",
    "#The above code gives a new excel sheet with molecules with NaNs removed.\n",
    "print(problem_samples)"
   ]
  },
  {
   "cell_type": "markdown",
   "metadata": {},
   "source": [
    "Produce a new excel sheet with all the smiles strings corresponding to molecules with NaNs removed."
   ]
  },
  {
   "cell_type": "code",
   "execution_count": null,
   "metadata": {},
   "outputs": [],
   "source": [
    "trimmed_smiles = []\n",
    "for i in range(len(smiles)):\n",
    "    if i not in unique_problem_samples:\n",
    "        trimmed_smiles.append(smiles[i])\n",
    "        print(smiles[i])\n",
    "        #The printed smiles strings can be copied into excel directly\n",
    "    else:\n",
    "        pass\n",
    "\n",
    "print(\"unaltered smiles list was \", len(smiles), \" entries long.\")\n",
    "print(\"altered smiles list was \", len(trimmed_smiles), \" entries long.\")\n"
   ]
  },
  {
   "cell_type": "code",
   "execution_count": null,
   "metadata": {},
   "outputs": [],
   "source": []
  }
 ],
 "metadata": {
  "kernelspec": {
   "display_name": "Python 3",
   "language": "python",
   "name": "python3"
  },
  "language_info": {
   "codemirror_mode": {
    "name": "ipython",
    "version": 3
   },
   "file_extension": ".py",
   "mimetype": "text/x-python",
   "name": "python",
   "nbconvert_exporter": "python",
   "pygments_lexer": "ipython3",
   "version": "3.7.3"
  },
  "toc": {
   "base_numbering": 1,
   "nav_menu": {},
   "number_sections": true,
   "sideBar": true,
   "skip_h1_title": false,
   "title_cell": "Table of Contents",
   "title_sidebar": "Contents",
   "toc_cell": false,
   "toc_position": {},
   "toc_section_display": true,
   "toc_window_display": true
  }
 },
 "nbformat": 4,
 "nbformat_minor": 4
}
